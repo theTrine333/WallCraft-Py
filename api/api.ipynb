{
 "cells": [
  {
   "cell_type": "markdown",
   "metadata": {},
   "source": [
    "## Project \"WallCraft\""
   ]
  },
  {
   "cell_type": "code",
   "execution_count": 2,
   "metadata": {},
   "outputs": [],
   "source": [
    "import requests\n",
    "from bs4 import BeautifulSoup"
   ]
  },
  {
   "cell_type": "code",
   "execution_count": 3,
   "metadata": {},
   "outputs": [
    {
     "name": "stdout",
     "output_type": "stream",
     "text": [
      "<Response [200]>\n"
     ]
    }
   ],
   "source": [
    "main_url = \"https://wallpaper.mob.org/gallery/tag=dark/6/\"\n",
    "req = requests.get(main_url)\n",
    "print(req)"
   ]
  },
  {
   "cell_type": "code",
   "execution_count": 24,
   "metadata": {},
   "outputs": [
    {
     "name": "stdout",
     "output_type": "stream",
     "text": [
      "https://w.forfun.com/fetch/1f/1fb91fc3926e71b7353719e3de22ba7c.jpeg\n",
      "https://w.forfun.com/fetch/88/88da35ce5ab5fcf4827fd5f3a9d135f3.jpeg\n",
      "https://w.forfun.com/fetch/9a/9ad4af710e601641b818559e1c076154.jpeg\n",
      "https://w.forfun.com/fetch/63/630942569f8f65344c5033b6e06e141e.jpeg\n",
      "https://w.forfun.com/fetch/f3/f352dc893d0dbcdc02a5f2df0b901b50.jpeg\n",
      "https://w.forfun.com/fetch/2c/2ce5df702f0a2e4c6e14c98039b1d11c.jpeg\n",
      "https://w.forfun.com/fetch/64/643b17ce9704cae3de9c6eeba9ef22a6.jpeg\n",
      "https://w.forfun.com/fetch/7b/7ba962e676666962896944363c5a4e09.jpeg\n",
      "https://w.forfun.com/fetch/a7/a7f471fb1cce756e37678688e4158c83.jpeg\n",
      "https://w.forfun.com/fetch/55/551d48e11d7a9a384f63e0ecfc1e13df.jpeg\n",
      "https://w.forfun.com/fetch/e9/e9aad02d2a68f52e422172a5ba017772.jpeg\n",
      "https://w.forfun.com/fetch/33/3386f46b7958625f31febfff766e32ef.jpeg\n",
      "https://w.forfun.com/fetch/1c/1c9a88ddc6900d462c9e509d5a4f9178.jpeg\n",
      "https://w.forfun.com/fetch/e6/e643c11f34d339647edb35297cf88959.jpeg\n",
      "https://w.forfun.com/fetch/69/69b938a1ced0d0f51f2ec5c05313a2c0.jpeg\n",
      "https://w.forfun.com/fetch/c3/c35a270f76a06f30f304f923e5fdf4bb.jpeg\n",
      "https://w.forfun.com/fetch/aa/aa270084a2a9e909ea4a7032be8fb9c8.jpeg\n",
      "https://w.forfun.com/fetch/76/76b985707f55df1074151b7abf7b3ffd.jpeg\n",
      "https://w.forfun.com/fetch/de/de0097cbd2b6d4e66c808397a2f50b24.jpeg\n",
      "https://w.forfun.com/fetch/5b/5b3ca2a5c2f2f238b9beb8dc74e56155.jpeg\n",
      "https://w.forfun.com/fetch/46/466e0ac0ffcb1f04e50d8e56aa04936d.jpeg\n",
      "https://w.forfun.com/fetch/dc/dcf94af5968b0a7fc7c8160bbfc69c62.jpeg\n",
      "https://w.forfun.com/fetch/91/916d517f81891100e5c921bbb0a3d81d.jpeg\n",
      "https://w.forfun.com/fetch/50/50d1485e5980797988b827db37639938.jpeg\n",
      "https://w.forfun.com/fetch/3c/3c71a1824e9285fb084548f9c5e95523.jpeg\n",
      "https://w.forfun.com/fetch/e7/e760e5dd87dd9fbdf9cd2c0e2fd096f3.jpeg\n",
      "https://w.forfun.com/fetch/f7/f78166a4215a0821e2b0f9e938453b70.jpeg\n",
      "https://w.forfun.com/fetch/8d/8df2b8cab85435f9615d81e0cd9f719f.jpeg\n",
      "https://w.forfun.com/fetch/93/937ac095cf23d8f3c38f0b10a4310f13.jpeg\n",
      "https://w.forfun.com/fetch/ab/abdaba1db02f62a50752071c791847cb.jpeg\n",
      "https://w.forfun.com/fetch/20/20d5eaf5a1d3e8a281126178885f265d.jpeg\n",
      "https://w.forfun.com/fetch/ad/ad78c8b04764f26a9a6c16b39920374f.jpeg\n",
      "https://w.forfun.com/fetch/be/be0d2c8d7d3fb53b59ee7e4dfdbe4f7b.jpeg\n",
      "https://w.forfun.com/fetch/3d/3d2dc6a95b6cf4cd6f270c0b96f4b65a.jpeg\n",
      "https://w.forfun.com/fetch/83/83cedc6c2d1f415b14110da70876a243.jpeg\n",
      "https://w.forfun.com/fetch/0e/0e4e0a306fb639810b5bfd3d936c520b.jpeg\n",
      "https://w.forfun.com/fetch/2a/2a4e0f873858b992b2cca49d671bac18.jpeg\n",
      "https://w.forfun.com/fetch/35/357a48c6c3e4014b23e7df346cca95eb.jpeg\n",
      "https://w.forfun.com/fetch/3d/3d0be62ce20fb9ff86b2bd97e392cdb9.jpeg\n",
      "https://w.forfun.com/fetch/0e/0e76b323225e3d01920e676a42376c7a.jpeg\n",
      "https://w.forfun.com/fetch/37/37413d20f509ba6d86831dda9fed4c8e.jpeg\n",
      "https://w.forfun.com/fetch/fb/fb03905689af48cf58209cd6d474db75.jpeg\n",
      "https://w.forfun.com/fetch/39/39fcaceb97df3212d5b1b79e1562fb5c.jpeg\n",
      "https://w.forfun.com/fetch/60/60df124922463b78cf1e5ccfa06b5e5c.jpeg\n",
      "https://w.forfun.com/fetch/ec/ec02fc119b690a8b198247228e752af9.jpeg\n",
      "https://w.forfun.com/fetch/55/55c1599a6fc0c51ebaa0772dc18e645b.jpeg\n",
      "https://w.forfun.com/fetch/6b/6bd15d66b215f58fe91d24f24155d5f5.jpeg\n",
      "https://w.forfun.com/fetch/27/270d23ba9950f60c71a9eb3a9ac02a35.jpeg\n",
      "https://w.forfun.com/fetch/56/56cbcc985486b71255ac5c52329b3c8c.jpeg\n",
      "https://w.forfun.com/fetch/78/7897c7c5a73965e7caf6f209fb0eb0c7.jpeg\n",
      "https://w.forfun.com/fetch/2e/2e2ec5ba77faaa7fc9c4a21860577dc9.jpeg\n",
      "https://w.forfun.com/fetch/0d/0d6c5354303484259cd89bb762e4d767.jpeg\n",
      "https://w.forfun.com/fetch/f9/f9f28cd0f46f8404ab40b24187b323b8.jpeg\n",
      "https://w.forfun.com/fetch/47/475c1b74f5834733cd31392f4893b049.jpeg\n",
      "https://w.forfun.com/fetch/54/54ed74b872a84ad95da5131b1128e2cf.jpeg\n",
      "https://w.forfun.com/fetch/7a/7aa1e71d4af6eb6f244e568a9f07aa11.jpeg\n",
      "https://w.forfun.com/fetch/70/70e0712d147c564685f4c66d01a22f9c.jpeg\n",
      "https://w.forfun.com/fetch/53/5375bcea1c7f17054dee72a0f19563a2.jpeg\n",
      "https://w.forfun.com/fetch/67/6733e82119a70d7ecbd6b74773043df5.jpeg\n",
      "https://w.forfun.com/fetch/74/744dba53e8e5a801e54fcc64cf65fb8d.jpeg\n",
      "https://w.forfun.com/fetch/89/89f0d324af56d36d954bb426ae4ebd91.jpeg\n",
      "https://w.forfun.com/fetch/ca/ca0f7f3a7756af460467a33a2f9f9c75.jpeg\n",
      "https://w.forfun.com/fetch/ad/ad068fd70ff4ee2af7a7c11218ccfdda.jpeg\n",
      "https://w.forfun.com/fetch/c1/c1514248e36924ce490b7a585ee5eff0.jpeg\n",
      "https://w.forfun.com/fetch/3e/3e10fdd93f1c0e03db150ab2a67460a9.jpeg\n",
      "https://w.forfun.com/fetch/7e/7e5aa9e78b11975608e0d05d2bc28db6.jpeg\n",
      "https://w.forfun.com/fetch/c7/c7222eacbb3ad89248aba40656d8f8a0.jpeg\n",
      "https://w.forfun.com/fetch/a1/a1c0a0528a541f4c8a8e0a5bbf56a63d.jpeg\n",
      "https://w.forfun.com/fetch/7c/7cbd94c9f5822cd6f754781f2ae9d913.jpeg\n",
      "https://w.forfun.com/fetch/51/51aba62c2f6dde0096c1953c10269656.jpeg\n",
      "https://w.forfun.com/fetch/2d/2d6a6b903506ad2422723ad2ce100a50.jpeg\n",
      "https://w.forfun.com/fetch/ef/efea1b6fa48232927f2418ea2eddb72c.jpeg\n"
     ]
    }
   ],
   "source": [
    "soup = BeautifulSoup(req.text)\n",
    "containers = soup.findAll(\"div\", class_= \"image-gallery__items image-gallery-items-container\")\n",
    "for container in containers:\n",
    "    images = container.findAll(\"img\")\n",
    "    for image in images: \n",
    "        print(image['src'])"
   ]
  }
 ],
 "metadata": {
  "kernelspec": {
   "display_name": "Python 3",
   "language": "python",
   "name": "python3"
  },
  "language_info": {
   "codemirror_mode": {
    "name": "ipython",
    "version": 3
   },
   "file_extension": ".py",
   "mimetype": "text/x-python",
   "name": "python",
   "nbconvert_exporter": "python",
   "pygments_lexer": "ipython3",
   "version": "3.12.2"
  }
 },
 "nbformat": 4,
 "nbformat_minor": 2
}
